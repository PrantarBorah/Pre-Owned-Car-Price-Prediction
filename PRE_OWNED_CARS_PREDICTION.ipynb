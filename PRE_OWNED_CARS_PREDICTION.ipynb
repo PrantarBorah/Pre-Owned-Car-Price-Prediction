{
 "cells": [
  {
   "cell_type": "code",
   "execution_count": 144,
   "metadata": {},
   "outputs": [],
   "source": [
    "import datetime\n",
    "import numpy as np\n",
    "import pandas as pd\n",
    "import seaborn as sns\n",
    "import matplotlib.pyplot as plt\n",
    "import matplotlib.patches as mpatches\n",
    "import os\n",
    "from sklearn.model_selection import train_test_split\n",
    "from sklearn.preprocessing import StandardScaler\n",
    "from sklearn.neighbors import KNeighborsRegressor\n",
    "from sklearn.metrics import r2_score"
   ]
  },
  {
   "cell_type": "code",
   "execution_count": 145,
   "metadata": {},
   "outputs": [],
   "source": [
    "cars_train= pd.ExcelFile(r\"C:\\Users\\HP\\Documents\\coursera(PYTHON)\\INTERNSHIP notes\\Data_Training.xlsx\")\n",
    "sheet_train=pd.read_excel(r\"C:\\Users\\HP\\Documents\\coursera(PYTHON)\\INTERNSHIP notes\\Data_Training.xlsx\",sheet_name=0)"
   ]
  },
  {
   "cell_type": "code",
   "execution_count": 146,
   "metadata": {},
   "outputs": [],
   "source": [
    "car_test= pd.ExcelFile(r\"C:\\Users\\HP\\Documents\\coursera(PYTHON)\\INTERNSHIP notes\\Data_Testing.xlsx\")\n",
    "sheet_test=pd.read_excel(r\"C:\\Users\\HP\\Documents\\coursera(PYTHON)\\INTERNSHIP notes\\Data_Testing.xlsx\",sheet_name=0)"
   ]
  },
  {
   "cell_type": "code",
   "execution_count": 147,
   "metadata": {},
   "outputs": [],
   "source": [
    "X_train, X_test, y_train, y_test = train_test_split(sheet_train.iloc[:, :-1], sheet_train.iloc[:, -1], test_size = 0.3, \n",
    "                                                    random_state = 42)"
   ]
  },
  {
   "cell_type": "code",
   "execution_count": 148,
   "metadata": {},
   "outputs": [],
   "source": [
    "sep_train = X_train[\"Name\"].str.split(\" \", expand = True)\n",
    "sep_test = X_test[\"Name\"].str.split(\" \", expand = True)\n"
   ]
  },
  {
   "cell_type": "code",
   "execution_count": 149,
   "metadata": {},
   "outputs": [],
   "source": [
    "X_train[\"Company\"] = sep_train[0]\n",
    "X_test[\"Company\"] = sep_test[0]"
   ]
  },
  {
   "cell_type": "code",
   "execution_count": 150,
   "metadata": {},
   "outputs": [
    {
     "data": {
      "text/plain": [
       "0"
      ]
     },
     "execution_count": 150,
     "metadata": {},
     "output_type": "execute_result"
    }
   ],
   "source": [
    "X_train.Company.isnull().sum()"
   ]
  },
  {
   "cell_type": "code",
   "execution_count": 151,
   "metadata": {},
   "outputs": [],
   "source": [
    "X_train.drop(\"Name\", axis = 1, inplace = True)\n",
    "X_test.drop(\"Name\", axis = 1, inplace = True)"
   ]
  },
  {
   "cell_type": "code",
   "execution_count": 152,
   "metadata": {},
   "outputs": [],
   "source": [
    "X_train.drop(\"Location\", axis = 1, inplace = True)\n",
    "X_test.drop(\"Location\", axis = 1, inplace = True)"
   ]
  },
  {
   "cell_type": "code",
   "execution_count": 153,
   "metadata": {},
   "outputs": [
    {
     "name": "stdout",
     "output_type": "stream",
     "text": [
      "<class 'pandas.core.frame.DataFrame'>\n",
      "Int64Index: 4213 entries, 4201 to 860\n",
      "Data columns (total 10 columns):\n",
      "Year                 4213 non-null int64\n",
      "Kilometers_Driven    4213 non-null int64\n",
      "Fuel_Type            4213 non-null object\n",
      "Transmission         4213 non-null object\n",
      "Owner_Type           4213 non-null object\n",
      "Mileage              4212 non-null object\n",
      "Engine               4189 non-null object\n",
      "Power                4189 non-null object\n",
      "Seats                4185 non-null float64\n",
      "Company              4213 non-null object\n",
      "dtypes: float64(1), int64(2), object(7)\n",
      "memory usage: 362.1+ KB\n"
     ]
    }
   ],
   "source": [
    "X_train.info()"
   ]
  },
  {
   "cell_type": "code",
   "execution_count": 154,
   "metadata": {},
   "outputs": [
    {
     "name": "stdout",
     "output_type": "stream",
     "text": [
      "<class 'pandas.core.frame.DataFrame'>\n",
      "Int64Index: 1806 entries, 2868 to 3926\n",
      "Data columns (total 10 columns):\n",
      "Year                 1806 non-null int64\n",
      "Kilometers_Driven    1806 non-null int64\n",
      "Fuel_Type            1806 non-null object\n",
      "Transmission         1806 non-null object\n",
      "Owner_Type           1806 non-null object\n",
      "Mileage              1805 non-null object\n",
      "Engine               1794 non-null object\n",
      "Power                1794 non-null object\n",
      "Seats                1792 non-null float64\n",
      "Company              1806 non-null object\n",
      "dtypes: float64(1), int64(2), object(7)\n",
      "memory usage: 155.2+ KB\n"
     ]
    }
   ],
   "source": [
    "X_test.info()"
   ]
  },
  {
   "cell_type": "code",
   "execution_count": 155,
   "metadata": {},
   "outputs": [],
   "source": [
    "mileage_train = X_train[\"Mileage\"].str.split(\" \", expand = True)\n",
    "mileage_test = X_test[\"Mileage\"].str.split(\" \", expand = True)\n",
    "\n",
    "X_train[\"Mileage\"] = pd.to_numeric(mileage_train[0], errors = 'coerce')\n",
    "X_test[\"Mileage\"] = pd.to_numeric(mileage_test[0], errors = 'coerce')"
   ]
  },
  {
   "cell_type": "code",
   "execution_count": 156,
   "metadata": {},
   "outputs": [
    {
     "name": "stdout",
     "output_type": "stream",
     "text": [
      "1\n",
      "1\n"
     ]
    }
   ],
   "source": [
    "print(sum(X_train[\"Mileage\"].isnull()))\n",
    "print(sum(X_test[\"Mileage\"].isnull()))"
   ]
  },
  {
   "cell_type": "code",
   "execution_count": 157,
   "metadata": {},
   "outputs": [],
   "source": [
    "X_train[\"Mileage\"].fillna(X_train[\"Mileage\"].astype(\"float64\").mean(), inplace = True)\n",
    "X_test[\"Mileage\"].fillna(X_train[\"Mileage\"].astype(\"float64\").mean(), inplace = True)"
   ]
  },
  {
   "cell_type": "code",
   "execution_count": 158,
   "metadata": {},
   "outputs": [],
   "source": [
    "engine_train = X_train[\"Engine\"].str.split(\" \", expand = True)\n",
    "engine_test = X_test[\"Engine\"].str.split(\" \", expand = True)\n",
    "X_train[\"Engine\"] = pd.to_numeric(engine_train[0], errors = 'coerce')\n",
    "X_test[\"Engine\"] = pd.to_numeric(engine_test[0], errors = 'coerce')\n",
    "\n",
    "power_train = X_train[\"Power\"].str.split(\" \", expand = True)\n",
    "power_test = X_test[\"Power\"].str.split(\" \", expand = True)\n",
    "X_train[\"Power\"] = pd.to_numeric(power_train[0], errors = 'coerce')\n",
    "X_test[\"Power\"] = pd.to_numeric(power_test[0], errors = 'coerce')"
   ]
  },
  {
   "cell_type": "code",
   "execution_count": 159,
   "metadata": {},
   "outputs": [
    {
     "name": "stdout",
     "output_type": "stream",
     "text": [
      "<class 'pandas.core.frame.DataFrame'>\n",
      "Int64Index: 4213 entries, 4201 to 860\n",
      "Data columns (total 10 columns):\n",
      "Year                 4213 non-null int64\n",
      "Kilometers_Driven    4213 non-null int64\n",
      "Fuel_Type            4213 non-null object\n",
      "Transmission         4213 non-null object\n",
      "Owner_Type           4213 non-null object\n",
      "Mileage              4213 non-null float64\n",
      "Engine               4189 non-null float64\n",
      "Power                4121 non-null float64\n",
      "Seats                4185 non-null float64\n",
      "Company              4213 non-null object\n",
      "dtypes: float64(4), int64(2), object(4)\n",
      "memory usage: 362.1+ KB\n"
     ]
    }
   ],
   "source": [
    "X_train.info()"
   ]
  },
  {
   "cell_type": "code",
   "execution_count": 160,
   "metadata": {},
   "outputs": [],
   "source": [
    "X_train[\"Engine\"].fillna(X_train[\"Engine\"].astype(\"float64\").mean(), inplace = True)\n",
    "X_test[\"Engine\"].fillna(X_train[\"Engine\"].astype(\"float64\").mean(), inplace = True)\n",
    "X_train[\"Power\"].fillna(X_train[\"Power\"].astype(\"float64\").mean(), inplace = True)\n",
    "X_test[\"Power\"].fillna(X_train[\"Power\"].astype(\"float64\").mean(), inplace = True)\n",
    "X_train[\"Seats\"].fillna(X_train[\"Seats\"].astype(\"float64\").mean(), inplace = True)\n",
    "X_test[\"Seats\"].fillna(X_train[\"Seats\"].astype(\"float64\").mean(), inplace = True)"
   ]
  },
  {
   "cell_type": "code",
   "execution_count": 161,
   "metadata": {},
   "outputs": [
    {
     "name": "stdout",
     "output_type": "stream",
     "text": [
      "<class 'pandas.core.frame.DataFrame'>\n",
      "Int64Index: 4213 entries, 4201 to 860\n",
      "Data columns (total 10 columns):\n",
      "Year                 4213 non-null int64\n",
      "Kilometers_Driven    4213 non-null int64\n",
      "Fuel_Type            4213 non-null object\n",
      "Transmission         4213 non-null object\n",
      "Owner_Type           4213 non-null object\n",
      "Mileage              4213 non-null float64\n",
      "Engine               4213 non-null float64\n",
      "Power                4213 non-null float64\n",
      "Seats                4213 non-null float64\n",
      "Company              4213 non-null object\n",
      "dtypes: float64(4), int64(2), object(4)\n",
      "memory usage: 362.1+ KB\n"
     ]
    }
   ],
   "source": [
    "X_train.info()"
   ]
  },
  {
   "cell_type": "code",
   "execution_count": 162,
   "metadata": {},
   "outputs": [
    {
     "name": "stdout",
     "output_type": "stream",
     "text": [
      "<class 'pandas.core.frame.DataFrame'>\n",
      "Int64Index: 1806 entries, 2868 to 3926\n",
      "Data columns (total 10 columns):\n",
      "Year                 1806 non-null int64\n",
      "Kilometers_Driven    1806 non-null int64\n",
      "Fuel_Type            1806 non-null object\n",
      "Transmission         1806 non-null object\n",
      "Owner_Type           1806 non-null object\n",
      "Mileage              1806 non-null float64\n",
      "Engine               1806 non-null float64\n",
      "Power                1806 non-null float64\n",
      "Seats                1806 non-null float64\n",
      "Company              1806 non-null object\n",
      "dtypes: float64(4), int64(2), object(4)\n",
      "memory usage: 155.2+ KB\n"
     ]
    }
   ],
   "source": [
    "X_test.info()"
   ]
  },
  {
   "cell_type": "code",
   "execution_count": 163,
   "metadata": {},
   "outputs": [],
   "source": [
    "X_train = pd.get_dummies(X_train,columns = [\"Company\", \"Fuel_Type\", \"Transmission\", \"Owner_Type\"],drop_first = True)\n"
   ]
  },
  {
   "cell_type": "code",
   "execution_count": 164,
   "metadata": {},
   "outputs": [],
   "source": [
    "X_test = pd.get_dummies(X_test,columns = [\"Company\", \"Fuel_Type\", \"Transmission\", \"Owner_Type\"],drop_first = True)"
   ]
  },
  {
   "cell_type": "code",
   "execution_count": 165,
   "metadata": {},
   "outputs": [
    {
     "name": "stdout",
     "output_type": "stream",
     "text": [
      "<class 'pandas.core.frame.DataFrame'>\n",
      "Int64Index: 4213 entries, 4201 to 860\n",
      "Data columns (total 41 columns):\n",
      "Year                         4213 non-null int64\n",
      "Kilometers_Driven            4213 non-null int64\n",
      "Mileage                      4213 non-null float64\n",
      "Engine                       4213 non-null float64\n",
      "Power                        4213 non-null float64\n",
      "Seats                        4213 non-null float64\n",
      "Company_BMW                  4213 non-null uint8\n",
      "Company_Chevrolet            4213 non-null uint8\n",
      "Company_Datsun               4213 non-null uint8\n",
      "Company_Fiat                 4213 non-null uint8\n",
      "Company_Force                4213 non-null uint8\n",
      "Company_Ford                 4213 non-null uint8\n",
      "Company_Honda                4213 non-null uint8\n",
      "Company_Hyundai              4213 non-null uint8\n",
      "Company_ISUZU                4213 non-null uint8\n",
      "Company_Isuzu                4213 non-null uint8\n",
      "Company_Jaguar               4213 non-null uint8\n",
      "Company_Jeep                 4213 non-null uint8\n",
      "Company_Lamborghini          4213 non-null uint8\n",
      "Company_Land                 4213 non-null uint8\n",
      "Company_Mahindra             4213 non-null uint8\n",
      "Company_Maruti               4213 non-null uint8\n",
      "Company_Mercedes-Benz        4213 non-null uint8\n",
      "Company_Mini                 4213 non-null uint8\n",
      "Company_Mitsubishi           4213 non-null uint8\n",
      "Company_Nissan               4213 non-null uint8\n",
      "Company_Porsche              4213 non-null uint8\n",
      "Company_Renault              4213 non-null uint8\n",
      "Company_Skoda                4213 non-null uint8\n",
      "Company_Tata                 4213 non-null uint8\n",
      "Company_Toyota               4213 non-null uint8\n",
      "Company_Volkswagen           4213 non-null uint8\n",
      "Company_Volvo                4213 non-null uint8\n",
      "Fuel_Type_Diesel             4213 non-null uint8\n",
      "Fuel_Type_Electric           4213 non-null uint8\n",
      "Fuel_Type_LPG                4213 non-null uint8\n",
      "Fuel_Type_Petrol             4213 non-null uint8\n",
      "Transmission_Manual          4213 non-null uint8\n",
      "Owner_Type_Fourth & Above    4213 non-null uint8\n",
      "Owner_Type_Second            4213 non-null uint8\n",
      "Owner_Type_Third             4213 non-null uint8\n",
      "dtypes: float64(4), int64(2), uint8(35)\n",
      "memory usage: 374.4 KB\n"
     ]
    }
   ],
   "source": [
    "X_train.info()"
   ]
  },
  {
   "cell_type": "code",
   "execution_count": 166,
   "metadata": {},
   "outputs": [],
   "source": [
    "sc = StandardScaler()\n",
    "sc.fit(X_train)\n",
    "X_train = sc.transform(X_train)\n",
    "X_test = sc.transform(X_test)"
   ]
  },
  {
   "cell_type": "code",
   "execution_count": 167,
   "metadata": {},
   "outputs": [],
   "source": [
    "from sklearn.ensemble import RandomForestRegressor"
   ]
  },
  {
   "cell_type": "code",
   "execution_count": 168,
   "metadata": {},
   "outputs": [
    {
     "name": "stderr",
     "output_type": "stream",
     "text": [
      "C:\\Users\\HP\\Anaconda3\\lib\\site-packages\\sklearn\\ensemble\\forest.py:245: FutureWarning: The default value of n_estimators will change from 10 in version 0.20 to 100 in 0.22.\n",
      "  \"10 in version 0.20 to 100 in 0.22.\", FutureWarning)\n"
     ]
    },
    {
     "data": {
      "text/plain": [
       "0.8242699137362034"
      ]
     },
     "execution_count": 168,
     "metadata": {},
     "output_type": "execute_result"
    }
   ],
   "source": [
    "rf = RandomForestRegressor()\n",
    "rf.fit(X_train, y_train)\n",
    "y_predict = rf.predict(X_test)\n",
    "r2_score(y_test, y_predict)"
   ]
  },
  {
   "cell_type": "code",
   "execution_count": 169,
   "metadata": {},
   "outputs": [],
   "source": [
    "#I had tried with Linear Regression but Random forest had the better prediction score(.826)\n",
    "#Inference:\n",
    "#Towardsdatascience.com\n",
    "#analyticsindiamag.com"
   ]
  },
  {
   "cell_type": "code",
   "execution_count": 170,
   "metadata": {},
   "outputs": [
    {
     "ename": "ValueError",
     "evalue": "operands could not be broadcast together with shapes (1806,) (41,) (1806,) ",
     "output_type": "error",
     "traceback": [
      "\u001b[1;31m---------------------------------------------------------------------------\u001b[0m",
      "\u001b[1;31mValueError\u001b[0m                                Traceback (most recent call last)",
      "\u001b[1;32m<ipython-input-170-dc9540ca9d4f>\u001b[0m in \u001b[0;36m<module>\u001b[1;34m\u001b[0m\n\u001b[0;32m      2\u001b[0m \u001b[0mlr\u001b[0m \u001b[1;33m=\u001b[0m \u001b[0mLinearRegression\u001b[0m\u001b[1;33m(\u001b[0m\u001b[1;33m)\u001b[0m\u001b[1;33m\u001b[0m\u001b[1;33m\u001b[0m\u001b[0m\n\u001b[0;32m      3\u001b[0m \u001b[0mlr\u001b[0m\u001b[1;33m.\u001b[0m\u001b[0mfit\u001b[0m\u001b[1;33m(\u001b[0m\u001b[0mX_train\u001b[0m\u001b[1;33m,\u001b[0m\u001b[0my_train\u001b[0m\u001b[1;33m)\u001b[0m\u001b[1;33m\u001b[0m\u001b[1;33m\u001b[0m\u001b[0m\n\u001b[1;32m----> 4\u001b[1;33m \u001b[0my_pred\u001b[0m \u001b[1;33m=\u001b[0m \u001b[0msc\u001b[0m\u001b[1;33m.\u001b[0m\u001b[0minverse_transform\u001b[0m\u001b[1;33m(\u001b[0m\u001b[0mlr\u001b[0m\u001b[1;33m.\u001b[0m\u001b[0mpredict\u001b[0m\u001b[1;33m(\u001b[0m\u001b[0mX_test\u001b[0m\u001b[1;33m)\u001b[0m\u001b[1;33m)\u001b[0m\u001b[1;33m\u001b[0m\u001b[1;33m\u001b[0m\u001b[0m\n\u001b[0m\u001b[0;32m      5\u001b[0m \u001b[1;32mfor\u001b[0m \u001b[0mi\u001b[0m \u001b[1;32min\u001b[0m \u001b[0mrange\u001b[0m\u001b[1;33m(\u001b[0m\u001b[0mlen\u001b[0m\u001b[1;33m(\u001b[0m\u001b[0my_pred\u001b[0m\u001b[1;33m)\u001b[0m\u001b[1;33m)\u001b[0m\u001b[1;33m:\u001b[0m\u001b[1;33m\u001b[0m\u001b[1;33m\u001b[0m\u001b[0m\n\u001b[0;32m      6\u001b[0m    \u001b[1;32mif\u001b[0m \u001b[0my_pred\u001b[0m\u001b[1;33m[\u001b[0m\u001b[0mi\u001b[0m\u001b[1;33m]\u001b[0m \u001b[1;33m<\u001b[0m \u001b[1;36m0\u001b[0m\u001b[1;33m:\u001b[0m\u001b[1;33m\u001b[0m\u001b[1;33m\u001b[0m\u001b[0m\n",
      "\u001b[1;32m~\\Anaconda3\\lib\\site-packages\\sklearn\\preprocessing\\data.py\u001b[0m in \u001b[0;36minverse_transform\u001b[1;34m(self, X, copy)\u001b[0m\n\u001b[0;32m    807\u001b[0m                 \u001b[0mX\u001b[0m \u001b[1;33m=\u001b[0m \u001b[0mX\u001b[0m\u001b[1;33m.\u001b[0m\u001b[0mcopy\u001b[0m\u001b[1;33m(\u001b[0m\u001b[1;33m)\u001b[0m\u001b[1;33m\u001b[0m\u001b[1;33m\u001b[0m\u001b[0m\n\u001b[0;32m    808\u001b[0m             \u001b[1;32mif\u001b[0m \u001b[0mself\u001b[0m\u001b[1;33m.\u001b[0m\u001b[0mwith_std\u001b[0m\u001b[1;33m:\u001b[0m\u001b[1;33m\u001b[0m\u001b[1;33m\u001b[0m\u001b[0m\n\u001b[1;32m--> 809\u001b[1;33m                 \u001b[0mX\u001b[0m \u001b[1;33m*=\u001b[0m \u001b[0mself\u001b[0m\u001b[1;33m.\u001b[0m\u001b[0mscale_\u001b[0m\u001b[1;33m\u001b[0m\u001b[1;33m\u001b[0m\u001b[0m\n\u001b[0m\u001b[0;32m    810\u001b[0m             \u001b[1;32mif\u001b[0m \u001b[0mself\u001b[0m\u001b[1;33m.\u001b[0m\u001b[0mwith_mean\u001b[0m\u001b[1;33m:\u001b[0m\u001b[1;33m\u001b[0m\u001b[1;33m\u001b[0m\u001b[0m\n\u001b[0;32m    811\u001b[0m                 \u001b[0mX\u001b[0m \u001b[1;33m+=\u001b[0m \u001b[0mself\u001b[0m\u001b[1;33m.\u001b[0m\u001b[0mmean_\u001b[0m\u001b[1;33m\u001b[0m\u001b[1;33m\u001b[0m\u001b[0m\n",
      "\u001b[1;31mValueError\u001b[0m: operands could not be broadcast together with shapes (1806,) (41,) (1806,) "
     ]
    }
   ],
   "source": [
    "from sklearn.linear_model import LinearRegression\n",
    "lr = LinearRegression()\n",
    "lr.fit(X_train,y_train)\n",
    "y_pred = sc.inverse_transform(lr.predict(X_test))\n",
    "for i in range(len(y_pred)):\n",
    "   if y_pred[i] < 0:\n",
    "       y_pred[i] = 0\n",
    "print(\"\\n\\n Linear Regression SCORE : \", score(y_pred, y_test))\n"
   ]
  },
  {
   "cell_type": "code",
   "execution_count": 171,
   "metadata": {},
   "outputs": [
    {
     "data": {
      "text/plain": [
       "-0.024072429133416007"
      ]
     },
     "execution_count": 171,
     "metadata": {},
     "output_type": "execute_result"
    }
   ],
   "source": [
    "linearRegression = LinearRegression()\n",
    "linearRegression.fit(X_train, y_train)\n",
    "y_pred = linearRegression.predict(X_test)\n",
    "r2_score(y_test, y_pred)"
   ]
  },
  {
   "cell_type": "code",
   "execution_count": 175,
   "metadata": {},
   "outputs": [
    {
     "name": "stderr",
     "output_type": "stream",
     "text": [
      "C:\\Users\\HP\\Anaconda3\\lib\\site-packages\\sklearn\\ensemble\\forest.py:245: FutureWarning: The default value of n_estimators will change from 10 in version 0.20 to 100 in 0.22.\n",
      "  \"10 in version 0.20 to 100 in 0.22.\", FutureWarning)\n"
     ]
    }
   ],
   "source": [
    "#Predicting the test data\n",
    "rf2 = RandomForestRegressor()\n",
    "rf2.fit(X_train, y_train)\n",
    "y_predict2 = rf2.predict(X_test)\n"
   ]
  },
  {
   "cell_type": "code",
   "execution_count": 179,
   "metadata": {},
   "outputs": [
    {
     "data": {
      "text/plain": [
       "array([ 3.941, 13.069, 15.196, ...,  4.502,  6.825,  7.299])"
      ]
     },
     "execution_count": 179,
     "metadata": {},
     "output_type": "execute_result"
    }
   ],
   "source": [
    "y_predict"
   ]
  }
 ],
 "metadata": {
  "kernelspec": {
   "display_name": "Python 3",
   "language": "python",
   "name": "python3"
  },
  "language_info": {
   "codemirror_mode": {
    "name": "ipython",
    "version": 3
   },
   "file_extension": ".py",
   "mimetype": "text/x-python",
   "name": "python",
   "nbconvert_exporter": "python",
   "pygments_lexer": "ipython3",
   "version": "3.7.4"
  }
 },
 "nbformat": 4,
 "nbformat_minor": 2
}
